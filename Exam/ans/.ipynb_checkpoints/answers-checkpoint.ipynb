{
 "cells": [
  {
   "cell_type": "markdown",
   "metadata": {},
   "source": [
    "# Question 1 #"
   ]
  },
  {
   "cell_type": "markdown",
   "metadata": {},
   "source": [
    "1.  \n",
    "\n",
    "\n",
    "True = there is cancer\n",
    "False = there is not cancer\n",
    "\n",
    "$P(skin Cancer) = 0.03$ / $P(NotCancer) = 0.97$\n",
    "\n",
    "$P(False Positive) = 0.05$ / $P(True Positive) = 0.95$\n",
    "\n",
    "$P(False Negative) = 0.03$ / $P(True Negative) = 0.97$\n",
    "\n",
    "We want to find the probabilities of not having cencer given the test is positive, and having cancer given the test is negative.\n",
    "\n",
    "$P(Positive) = (0.03 * 0.05) + (0.97 * 0.95) \n",
    "$P(Negative) = (0.03 * 0.03) + (0.97 * 0.97)\n",
    "\n",
    "\n",
    "## fix ##\n",
    "\n",
    "$P(NotCancer|Positive) = \\frac{P(NotCancer \\ \\cap \\ Positive)}{P(Positive)} = \\frac{P(Positive | NotCancer) * P(NotCancer)}{P(Positive)} = \\frac{(0.05 * 0.97)}{0.0494} = 0.58906882591$\n",
    "\n",
    "$P(Cancer|Negative)= \\frac{P(Cancer \\ \\cap \\ Negative)}{P(Negative)} = \\frac{P(Negative | Cancer) * P(Cancer)}{P(Negative)} = \\frac{(0.03 * 0.03)}{0.9506} = 0.58906882591$$\n"
   ]
  },
  {
   "cell_type": "markdown",
   "metadata": {},
   "source": [
    "2. \n",
    "\n",
    "It is stated that Specifically, they suggest that doctors diagnose cancer if and only if bothtests are positive. The logic does not make sense because if the tests are conditionally independent from the user, this means the user's condition does not effect of the test results. "
   ]
  },
  {
   "cell_type": "markdown",
   "metadata": {},
   "source": [
    "3. \n",
    "\n",
    "\n",
    "Separation: C independent of A, conditional on Y<br>\n",
    "* We get equalized odds if both false and true positives are equal across groups\n",
    "* We get equalized opportunity if just true positives are equal across groups\n",
    "Sufficiency: Y independent of A, conditional on C\n",
    "\n",
    "Seperation VS Sufficiency \n",
    "\n",
    "Assume all events in the joint distribution of (A,C,Y) have positive probability. If A is dependent of Y, either Seperation holds or Sufficiency but not both.\n",
    "\n",
    "Let A and C be independent given Y, and let A and Y given in dependent given C. If this is true, this implies A is independent of (C,Y), which then implies A is independent of Y. "
   ]
  },
  {
   "cell_type": "markdown",
   "metadata": {},
   "source": [
    "4.\n",
    "\n",
    "Let $P(X\\perp Y|Z)$.<br>\n",
    "Let $P(X\\perp W|(Y,Z))$.<br>\n",
    "\n",
    "We want to show that $P(X\\perp (Y,W)|Z)$.\n",
    "\n",
    "If X and Y are independent given Z and X and W are independent given (Y,Z), we know that X \n",
    "\n",
    "redo\n",
    "\n"
   ]
  },
  {
   "cell_type": "markdown",
   "metadata": {},
   "source": [
    "# Question 2 #\n",
    "\n",
    "1.\n",
    "\n",
    "2.\n",
    "\n",
    "3.\n",
    "\n",
    "4."
   ]
  },
  {
   "cell_type": "markdown",
   "metadata": {},
   "source": [
    "# Question 3 #\n",
    "\n",
    "1.\n",
    "\n",
    "2.\n",
    "\n",
    "3."
   ]
  },
  {
   "cell_type": "markdown",
   "metadata": {},
   "source": [
    "# Question 4 #"
   ]
  },
  {
   "cell_type": "markdown",
   "metadata": {},
   "source": [
    "1. Assume each variable is binary(that is, it can take two values).  Then, we can deduce to the following:\n",
    "\n",
    "A will need 1 parameter for p(a)\n",
    "\n",
    "B will need 4 parameters for p(b|ac),p(b|āc),p(b|ač),p(a|āč)\n",
    "\n",
    "C will need 2 parameters for p(c|a) and p(c|ā)\n",
    "\n",
    "D will need 2 parameters (same as C)\n",
    "\n",
    "E will need 1 parameter (same as A)\n",
    "\n",
    "F will need 4 parameters (same as B)\n",
    "\n",
    "G will need 4 parameters (same as B)\n",
    "\n",
    "So in total we need 18 parameters."
   ]
  },
  {
   "cell_type": "markdown",
   "metadata": {},
   "source": [
    "2. \n",
    "    * (A, E)\n",
    "    * (B, E\n",
    "    * (C, E)"
   ]
  },
  {
   "cell_type": "markdown",
   "metadata": {},
   "source": [
    "3.   \n",
    "\n",
    "    * C is independent from D given A\n",
    "    * B is independent from D given A\n",
    "    * F is independent of G given D"
   ]
  },
  {
   "cell_type": "markdown",
   "metadata": {},
   "source": [
    "4. Any variable that has a conditional dependence with B, E, and F will be relevant. For instance, A, C, and G are relevant."
   ]
  },
  {
   "cell_type": "markdown",
   "metadata": {},
   "source": [
    "5. \n",
    "\n",
    "Blank"
   ]
  },
  {
   "cell_type": "markdown",
   "metadata": {},
   "source": [
    "# Question 5 #\n"
   ]
  },
  {
   "cell_type": "markdown",
   "metadata": {},
   "source": [
    "$ D = \\{ Steel, Aluminium, Titanium\\}$"
   ]
  },
  {
   "cell_type": "markdown",
   "metadata": {},
   "source": [
    "1. Set D has three elements. $L_{metal}$ has symbols $o_{1}, o_{2}, o_{3}$, $heavier\\_than$, and $expensive$. \n",
    "\n",
    "We can denote $Steel$ as $o_{1}$, $Aluminium$ as $o_{2}$, and $Titanium$ as $o_{3}$.\n",
    "\n",
    "We can say $heavier\\_than(o_{1}, o_{2}), heavier\\_than(o_{2}, o_{3}), heavier\\_than(o_{1}, o_{2}),  heavier\\_than(o_{2}, o_{1}), heavier\\_than(o_{3}, o_{2})$, $heavierthan(o_{1}, o_{3}). \n",
    "\n",
    "We can say $expensive(o_{1})$, $expensive(o_{2})$, $expensive(o_{3})$\n",
    "\n",
    "Therefore, there are 12 $L_{metal}$ structures."
   ]
  },
  {
   "cell_type": "markdown",
   "metadata": {},
   "source": [
    "2. Let $Steel$ as $o_{1}$, $Aluminium$ as $o_{2}$, and $Titanium$ as $o_{3}$. \n",
    "\n",
    "\n",
    "* From $heavierthan(o_{2}, o_{1})$, we know that alumiunium is heavier than steel.\n",
    "* From $heavierthan(o_{1}, o_{3})$, we know that steel is heavier than titanium.\n",
    "* From $expensive(o_{1})$, steel is expensive.\n",
    "* From $expensive(o_{2})$, steel is expensive.\n",
    "\n",
    "According to the above information, all structures of $B$ are included in the domain, for the structures are analogou s to the structures of $\\phi_{1}$, but $<titatnium, aluminium>$ in $heavierthan^{M}$. From the domain of $\\phi_{1}$, we know that alumiunium is heavier than steel, and steel is heavier than titatnium. From this, we can infer that $o_{2} > o_{1}$, and $o_{1} > o_{3}$. There is no structure that implies titatinium is heavier than aluminium. \n",
    "\n",
    "Therefore, other structures are included, despite $<titatnium, aluminium>$ in $heavierthan^{M}$."
   ]
  },
  {
   "cell_type": "markdown",
   "metadata": {},
   "source": [
    "3. If we execute a universal generalisation on the statement to convert to clausal form, we get:\n",
    "\n",
    "$heavierthan(x,y) \\wedge heavierthan(y,z)) \\to heavierthan(x,z)$.\n",
    "\n",
    "From this we can infer that since $o_{2} > o_{1}$, and $o_{1} > o_{3}$, so $o_{2} > o_{1} > o_{3}$.\n",
    "\n",
    "Examining $<titatnium, aluminium>$ in $heavierthan^{M}$, we see that this implies $o_{3} > o_{2}$, which violates the above condition. Therefore, it is still not in $\\phi_{2}$"
   ]
  },
  {
   "cell_type": "markdown",
   "metadata": {},
   "source": [
    "4.  If we execute a universal generalisation on the statement to convert to clausal form, we get:\n",
    "\n",
    "$heavier\\_than(x,y) \\wedge heavier\\_than(y,z)) \\to heavier\\_than(x,z)$.\n",
    "\n",
    "This time, we are considering this as the $ONLY$ condition of $\\phi_{3}$.\n",
    "\n",
    "This case, we are only interested in the structures that involve the structure $heavierthan$. From question 1, we know that there are 6 possible combinations of $heavier\\_than$. Enforcing the axiom, we only could get a subset of $heavier\\_than$ structures.\n",
    "\n",
    "For instance, $heavier\\_than(o_{2}, o_{1})$, $heavier\\_than(o_{1}, o_{3})$, $heavier\\_than(o_{2}, o_{3})$ satisfies the condition.\n",
    "\n",
    "Therefore, 3 of the $L_{metal}$ structures satisfy."
   ]
  },
  {
   "cell_type": "markdown",
   "metadata": {},
   "source": [
    "# Question 6 #"
   ]
  },
  {
   "cell_type": "markdown",
   "metadata": {},
   "source": [
    "1. We will convert the sentences to clausal form.\n",
    "\n",
    " * (1) $component(a, p_{1}) \\wedge component(b, p_{2}) \\wedge component(c, p_{3}) \\wedge assemble\\_before(a,b,p) \\wedge assembly\\_before(b,c, p)$        \n",
    " * (2) $component(c_{1}, p_{1}) \\wedge component(c_{2}, p_{2}) \\wedge assemble\\_before(c_{1}, c_{2}, p) \\to component(a,P_{3}) \\wedge assemble\\_before(a, c, p) \\wedge assemble\\_before(c, b, p)$ \n",
    " * (3) $component(c_{1}, a_{1}) \\wedge component(c_{2}, a_{2}) \\wedge component(c_{1}, c_{2}, p) \\to precedes(a_{1}, a_{2})$\n",
    " * (4) $assemble\\_before(c_{1}, c_{2}, a) \\wedge assemble before(c_{2}, c_{3}, a)) \\to assemble before(c_{1}, c_{3},a)$\n",
    " * (5) $assemble\\_before(c_{1}, c_{2}, a) \\wedge component(c_{1}, a_{1}) \\to part(a_{1}, a)$\n"
   ]
  },
  {
   "cell_type": "markdown",
   "metadata": {},
   "source": [
    "2. \n",
    "\n",
    "\n",
    "\n",
    " * What is a part of p? (finding one answer is sufficient)\n",
    "     * Assume $assemble\\_before(c_{1}, c_{2}, a) \\wedge component(c_{1}, a_{1}) \\to part(a_{1}, a)$\n",
    "     * ...Blank\n",
    "\n",
    " \n",
    " * What does precede p3? (finding one answer is sufficient)\n",
    "     * Assume $component(c_{1}, a_{1}) \\wedge component(c_{2}, a_{2}) \\wedge component(c_{1}, c_{2}, p) \\to precedes(a_{1}, a_{2})$\n",
    "     * ... Blank"
   ]
  }
 ],
 "metadata": {
  "kernelspec": {
   "display_name": "Python 3",
   "language": "python",
   "name": "python3"
  },
  "language_info": {
   "codemirror_mode": {
    "name": "ipython",
    "version": 3
   },
   "file_extension": ".py",
   "mimetype": "text/x-python",
   "name": "python",
   "nbconvert_exporter": "python",
   "pygments_lexer": "ipython3",
   "version": "3.6.2"
  }
 },
 "nbformat": 4,
 "nbformat_minor": 2
}
